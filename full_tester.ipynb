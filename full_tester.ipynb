{
 "cells": [
  {
   "cell_type": "code",
   "execution_count": 1,
   "metadata": {},
   "outputs": [],
   "source": [
    "import numpy as np\n",
    "from math import pi\n",
    "import random\n",
    "from astropy.io import fits\n",
    "import pandas as pd\n",
    "import os\n",
    "from tqdm import tqdm\n",
    "import utils\n",
    "#from joblib import Parallel, delayed\n",
    "import multiprocessing\n",
    "import time\n",
    "import glob\n",
    "import argparse\n",
    "import matplotlib.pyplot as plt\n",
    "import matplotlib.patches as patches\n",
    "from skimage.measure import regionprops, label\n",
    "from skimage.feature import blob_dog\n",
    "from casatasks import simanalyze,  simobserve, tclean, exportfits, simalma\n",
    "from astropy.visualization import simple_norm\n",
    "from astropy.io import fits\n",
    "from astropy.wcs import WCS\n",
    "from astropy import constants as c\n",
    "from skimage.measure import regionprops, label\n",
    "from casatasks import simanalyze,  simobserve, tclean, exportfits, simalma\n",
    "from astropy.visualization import simple_norm\n",
    "from photutils.aperture import CircularAnnulus, CircularAperture\n",
    "from tqdm import tqdm"
   ]
  },
  {
   "cell_type": "code",
   "execution_count": 2,
   "metadata": {},
   "outputs": [],
   "source": [
    "def threedgaussian(amplitude, spind, chan, center_x, center_y, width_x, width_y, angle, idxs):\n",
    "    angle = pi/180. * angle\n",
    "    rcen_x = center_x * np.cos(angle) - center_y * np.sin(angle)\n",
    "    rcen_y = center_x * np.sin(angle) + center_y * np.cos(angle)\n",
    "    xp = idxs[0] * np.cos(angle) - idxs[1] * np.sin(angle)\n",
    "    yp = idxs[0] * np.sin(angle) + idxs[1] * np.cos(angle)\n",
    "    v1 = 230e9\n",
    "    v2 = v1+10e6*chan\n",
    "\n",
    "    g = (10**(np.log10(amplitude) + (spind) * np.log10(v1/v2))) * np.exp(-(((rcen_x-xp)/width_x)**2+((rcen_y-yp)/width_y)**2)/2.)\n",
    "    return g\n",
    "\n",
    "\n",
    "def gaussian(x, amp, cen, fwhm):\n",
    "    \"\"\"\n",
    "    Generates a 1D Gaussian given the following input parameters:\n",
    "    x: position\n",
    "    amp: amplitude\n",
    "    fwhm: fwhm\n",
    "    level: level\n",
    "    \"\"\"\n",
    "    return amp*np.exp(-(x-cen)**2/(2*(fwhm/2.35482)**2))\n",
    "\n",
    "\n",
    "def generate_gaussian(amp, line_amp, data_dir, i):\n",
    "    idxs = np.indices([360, 360])\n",
    "    z_idxs = np.linspace(0, 128, 128)\n",
    "    line_cent = 64\n",
    "    pa = 0\n",
    "    pos_x, pos_y = 180, 180\n",
    "    fwhm_x, fwhm_y = 3, 3\n",
    "    line_fwhm = 6\n",
    "    spidx = 0\n",
    "    cube = np.zeros([128, 360, 360])\n",
    "    for z in range(cube.shape[0]):\n",
    "        temp_source =  threedgaussian(amp, spidx, z, pos_x, pos_y, fwhm_x, fwhm_y, pa, idxs)\n",
    "        cube[z, :, :] += temp_source\n",
    "        cube[z, :, :] += gaussian(z_idxs, line_amp, line_cent, line_fwhm)[z] * temp_source\n",
    "    hdu = fits.PrimaryHDU(data=cube.astype(np.float32))\n",
    "    hdu.writeto(data_dir + '/gauss_cube_' + str(i) + '.fits', overwrite=True)\n",
    "\n",
    "    img = np.sum(cube, axis=0)\n",
    "    norm = simple_norm(img, 'sqrt')\n",
    "    max_ = np.max(img)\n",
    "    std = np.std(img)\n",
    "    tseg = img.copy()\n",
    "    tseg[tseg >= 3 * std] = 1\n",
    "    tseg = tseg.astype(int)\n",
    "    props = regionprops(label(tseg, connectivity=2))\n",
    "    y0, x0, y1, x1 = props[0].bbox\n",
    "    \n",
    "    spectrum = np.sum(cube[:, 128 - 6: 128 + 6, 128 - 6: 128 + 6], axis=(1, 2))\n",
    "    fig, ax = plt.subplots(figsize=(16, 8), nrows=1, ncols=2)\n",
    "    im0 = ax[0].imshow(img, origin=\"lower\", cmap=\"magma\", norm=norm)\n",
    "    ax[0].set_title(\"Model Cube, max value {}\".format(round(max_, 2)))\n",
    "    rect = patches.Rectangle(xy=(x0, y0), \n",
    "                width=x1 - x0,\n",
    "                height=y1 - y0,\n",
    "                facecolor=\"none\",\n",
    "                edgecolor='green')\n",
    "    ax[0].add_patch(rect)\n",
    "    plt.colorbar(im0, ax=ax[0])\n",
    "    ax[1].plot(spectrum)\n",
    "    plt.show()\n",
    "    return np.array([y0, x0, y1, x1])\n",
    "    \n",
    "\n",
    "def simulator_tclean(output_dir, filename, project, amp, line_amp, box):\n",
    "    antennalist = \"alma_cycle9_configuration_files/alma.cycle9.3.cfg\"\n",
    "    simobserve(\n",
    "        project=project, \n",
    "        skymodel=filename,\n",
    "        inbright=\"0.001Jy/pix\",\n",
    "        indirection=\"J2000 03h59m59.96s -34d59m59.50s\",\n",
    "        incell=\"0.05arcsec\",\n",
    "        incenter=\"230GHz\",\n",
    "        inwidth=\"10MHz\",\n",
    "        setpointings=True,\n",
    "        integration=\"10s\",\n",
    "        direction=\"J2000 03h59m59.96s -34d59m59.50s\",\n",
    "        mapsize=[\"10arcsec\"],\n",
    "        maptype=\"hexagonal\",\n",
    "        obsmode=\"int\",\n",
    "        antennalist=antennalist,\n",
    "        totaltime=\"2400s\",\n",
    "        thermalnoise=\"tsys-atm\",\n",
    "        user_pwv=0.8,\n",
    "        seed=11111,\n",
    "        graphics=\"none\",\n",
    "        verbose=False,\n",
    "        overwrite=True)\n",
    "\n",
    "    tclean(\n",
    "        vis=os.path.join(project, \"{}.alma.cycle9.3.noisy.ms\".format(project)),\n",
    "        imagename=project+'/{}.alma.cycle9.3'.format(project),\n",
    "        imsize=[360, 360],\n",
    "        cell=[\"0.1 arcsec\"],\n",
    "        phasecenter=\"\",\n",
    "        specmode=\"cube\",\n",
    "        niter=0,\n",
    "        fastnoise=False,\n",
    "        calcpsf=True,\n",
    "        pbcor=False\n",
    "    )\n",
    "    exportfits(imagename=project+'/{}.alma.cycle9.3.image'.format(project), \n",
    "           fitsimage=output_dir +'/dirty_cube_tclean_{}_{}.fits'.format(amp, line_amp))\n",
    "    exportfits(imagename=project+'/{}.alma.cycle9.3.skymodel'.format(project), \n",
    "           fitsimage=output_dir +'/clean_cube_tclean_{}_{}.fits'.format(amp, line_amp))\n",
    "    \n",
    "    data = fits.getdata(output_dir +'/dirty_cube_tclean_{}_{}.fits'.format(amp, line_amp))[0]\n",
    "    img = np.sum(data, axis=0)\n",
    "    norm = simple_norm(img, 'sqrt')\n",
    "    \n",
    "    y0, x0, y1, x1 = box\n",
    "    xc, yc = 180, 180\n",
    "    r0, r1 = 1.6 * (x1 - x0), 2.6 * (x1 - x0)\n",
    "    r = 0.5 * (x1 - x0)\n",
    "\n",
    "    noise_aperture = CircularAnnulus((xc, yc), r0 / 2, r1 / 2 )\n",
    "    mask = noise_aperture.to_mask(method='center')\n",
    "\n",
    "    source_aperture = CircularAperture((xc, yc), r)\n",
    "    aperture_mask = source_aperture.to_mask()\n",
    "\n",
    "    noise_p = mask.multiply(img)\n",
    "    noise_p = noise_p[mask.data > 0]\n",
    "    source_p = aperture_mask.multiply(img)\n",
    "    source_p = source_p[aperture_mask.data > 0.]\n",
    "    std = np.std(noise_p)\n",
    "    mean = np.mean(source_p)\n",
    "    snr = mean / std\n",
    "    return snr\n",
    "\n",
    "\n",
    "def simulator_simalma(output_dir, filename, project, amp, line_amp, box):\n",
    "    antennalist = \"alma_cycle9_configuration_files/alma.cycle9.3.cfg\"\n",
    "    simalma(\n",
    "        project=project,\n",
    "        dryrun=False,\n",
    "        skymodel=filename,\n",
    "        inbright=\"0.001Jy/pix\",\n",
    "        indirection=\"J2000 03h59m59.96s -34d59m59.50s\",\n",
    "        incell=\"0.1arcsec\",\n",
    "        incenter=\"230GHz\",\n",
    "        inwidth=\"10MHz\",\n",
    "        antennalist=antennalist,\n",
    "        totaltime=\"2400s\",\n",
    "        mapsize=[\"10arcsec\"],\n",
    "        pwv=0.8,\n",
    "        niter=0,\n",
    "        imsize=[360, 360],\n",
    "        overwrite=True,\n",
    "        verbose=False\n",
    "    )\n",
    "    exportfits(imagename=project+'/{}.alma.cycle9.3.noisy.image'.format(project), \n",
    "           fitsimage=output_dir +'/dirty_cube_simalma_{}_{}.fits'.format(amp, line_amp))\n",
    "    exportfits(imagename=project+'/{}.alma.cycle9.3.skymodel'.format(project), \n",
    "           fitsimage=output_dir +'/clean_cube_simalma_{}_{}.fits'.format(amp, line_amp))\n",
    "    data = fits.getdata(output_dir +'/dirty_cube_simalma_{}_{}.fits'.format(amp, line_amp))[0]\n",
    "    img = np.sum(data, axis=0)\n",
    "    norm = simple_norm(img, 'sqrt')\n",
    "    \n",
    "    y0, x0, y1, x1 = box\n",
    "    xc, yc = 180, 180\n",
    "    r0, r1 = 2.6 * (x1 - x0), 3.6 * (x1 - x0)\n",
    "    r = 0.5 * (x1 - x0)\n",
    "\n",
    "    noise_aperture = CircularAnnulus((xc, yc), r0 / 2, r1 / 2 )\n",
    "    mask = noise_aperture.to_mask(method='center')\n",
    "\n",
    "    source_aperture = CircularAperture((xc, yc), r)\n",
    "    aperture_mask = source_aperture.to_mask()\n",
    "\n",
    "    noise_p = mask.multiply(img)\n",
    "    noise_p = noise_p[mask.data > 0]\n",
    "    source_p = aperture_mask.multiply(img)\n",
    "    source_p = source_p[aperture_mask.data > 0.]\n",
    "    std = np.std(noise_p)\n",
    "    mean = np.mean(source_p)\n",
    "    snr = mean / std\n",
    "    return snr\n",
    "\n",
    "\n",
    "def plotter(output_dir, amp, line_amp, box, snr1, snr2):\n",
    "    data = fits.getdata(output_dir +'/dirty_cube_tclean_{}_{}.fits'.format(amp, line_amp))[0]\n",
    "    img1 = np.sum(data, axis=0)\n",
    "    norm1 = simple_norm(img1, 'sqrt')\n",
    "    max1 = round(np.nanmax(img1), 2)\n",
    "    y0, x0, y1, x1 = box\n",
    "    xc, yc = 180, 180\n",
    "    r0, r1 = 2.6 * (x1 - x0), 3.6 * (x1 - x0)\n",
    "    r = 0.5 * (x1 - x0)\n",
    "\n",
    "    data = fits.getdata(output_dir +'/dirty_cube_simalma_{}_{}.fits'.format(amp, line_amp))[0]\n",
    "    img2 = np.sum(data, axis=0)\n",
    "    norm2 = simple_norm(img1, 'sqrt')\n",
    "    max2 = round(np.nanmax(img2), 2)\n",
    "\n",
    "    noise_aperture = CircularAnnulus((xc, yc), r0 / 2, r1 / 2 )\n",
    "    source_aperture = CircularAperture((xc, yc), r)\n",
    "    fig, ax = plt.subplots(figsize=(16, 8), nrows=1, ncols=2)\n",
    "    im1 = ax[0].imshow(img1, origin=\"lower\", cmap=\"magma\", norm=norm1)\n",
    "    rect = patches.Rectangle(xy=(x0, y0), \n",
    "                        width=x1 - x0,\n",
    "                        height=y1 - y0, \n",
    "                        facecolor=\"none\",\n",
    "                        edgecolor='green', label=\"Bounding Box\")\n",
    "    ax[0].add_patch(rect)\n",
    "    noise_aperture.plot(color='white', lw=1,\n",
    "                           label='Noise aperture', axes=ax[0])\n",
    "    source_aperture.plot(color=\"red\", lw=1, axes=ax[0], label=\"Source Aperture\")\n",
    "    plt.colorbar(im1, ax=ax[0])\n",
    "    ax[0].text(32, 5, f\"SNR {round(snr1, 2)}\", c='black',\n",
    "            bbox={'facecolor': 'none', 'alpha': 0.8,\n",
    "             'pad': 0.3, 'boxstyle': 'round', 'edgecolor': 'orange'})\n",
    "    ax[0].text(280, 5, f\"Peak {max1}\", c='black',\n",
    "            bbox={'facecolor': 'none', 'alpha': 0.8,\n",
    "             'pad': 0.3, 'boxstyle': 'round', 'edgecolor': 'orange'})\n",
    "    ax[0].set_title('tclean, amp: {}, line_amp {}'.format(amp, line_amp))\n",
    "    im2 = ax[1].imshow(img2, origin=\"lower\", cmap=\"magma\", norm=norm2)\n",
    "    rect = patches.Rectangle(xy=(x0, y0), \n",
    "                        width=x1 - x0,\n",
    "                        height=y1 - y0, \n",
    "                        facecolor=\"none\",\n",
    "                        edgecolor='green', label=\"Bounding Box\")\n",
    "    ax[1].add_patch(rect)\n",
    "    noise_aperture.plot(color='white', lw=1,\n",
    "                           label='Noise aperture', axes=ax[1])\n",
    "    source_aperture.plot(color=\"red\", lw=1, axes=ax[1], label=\"Source Aperture\")\n",
    "    plt.colorbar(im2, ax=ax[1])\n",
    "    ax[1].text(32, 5, f\"SNR {round(snr2, 2)}\", c='black',\n",
    "            bbox={'facecolor': 'none', 'alpha': 0.8,\n",
    "             'pad': 0.3, 'boxstyle': 'round', 'edgecolor': 'orange'})\n",
    "    ax[1].text(280, 5, f\"Peak {max2}\", c='black',\n",
    "            bbox={'facecolor': 'none', 'alpha': 0.8,\n",
    "             'pad': 0.3, 'boxstyle': 'round', 'edgecolor': 'orange'})\n",
    "    ax[1].set_title('simalma, amp: {}, line_amp {}'.format(amp, line_amp))\n",
    "\n",
    "    plt.show()\n"
   ]
  },
  {
   "cell_type": "markdown",
   "metadata": {},
   "source": [
    "Generate model cube"
   ]
  },
  {
   "cell_type": "code",
   "execution_count": null,
   "metadata": {},
   "outputs": [],
   "source": [
    "data_dir = \"models\"\n",
    "output_dir = \"sims\"\n",
    "if not os.path.exists(data_dir):\n",
    "    os.mkdir(data_dir)\n",
    "if not os.path.exists(output_dir):\n",
    "    os.mkdir(output_dir)\n",
    "i = 0\n",
    "amp = 0.1\n",
    "line_amp = 1.0\n",
    "box = generate_gaussian(amp, line_amp, data_dir, i)"
   ]
  },
  {
   "cell_type": "markdown",
   "metadata": {},
   "source": [
    "Run the two simulations"
   ]
  },
  {
   "cell_type": "code",
   "execution_count": null,
   "metadata": {},
   "outputs": [],
   "source": [
    "filename = os.path.join(data_dir, \"gauss_cube_\" + str(i) + \".fits\")\n",
    "project = \"sim\"\n",
    "snr = simulator_tclean(output_dir, filename, project, amp, line_amp, box)\n"
   ]
  },
  {
   "cell_type": "markdown",
   "metadata": {},
   "source": [
    "SNR in function of amp"
   ]
  },
  {
   "cell_type": "code",
   "execution_count": 5,
   "metadata": {},
   "outputs": [
    {
     "data": {
      "text/plain": [
       "array([0.0487931 , 0.0522069 , 0.05562069, 0.05903448, 0.06244828,\n",
       "       0.06586207, 0.06927586, 0.07268966, 0.07610345, 0.07951724,\n",
       "       0.08293103, 0.08634483, 0.08975862, 0.09317241, 0.09658621,\n",
       "       0.1       ])"
      ]
     },
     "execution_count": 5,
     "metadata": {},
     "output_type": "execute_result"
    }
   ],
   "source": [
    "data_dir = \"models\"\n",
    "output_dir = \"sims\"\n",
    "if not os.path.exists(data_dir):\n",
    "    os.mkdir(data_dir)\n",
    "if not os.path.exists(output_dir):\n",
    "    os.mkdir(output_dir)\n",
    "amps = np.linspace(0.001, 0.1, 30)\n",
    "\n"
   ]
  },
  {
   "cell_type": "code",
   "execution_count": 10,
   "metadata": {},
   "outputs": [
    {
     "name": "stderr",
     "output_type": "stream",
     "text": [
      "  0%|          | 0/2 [00:00<?, ?it/s]"
     ]
    },
    {
     "name": "stdout",
     "output_type": "stream",
     "text": [
      "0.09658620689655173\n"
     ]
    },
    {
     "data": {
      "image/png": "[encoded data removed]",
      "text/plain": [
       "<Figure size 1152x576 with 3 Axes>"
      ]
     },
     "metadata": {
      "needs_background": "light"
     },
     "output_type": "display_data"
    },
    {
     "name": "stderr",
     "output_type": "stream",
     "text": [
      "....10....20....30....40....50....60....70....80....90....100%\n",
      "\n",
      "0%....10....20....30....40....50....60....70....80....90....100%\n",
      "2022-06-08 13:44:41\tWARN\ttclean::::casa\tWarning! Non-zero values at the edge of the .pb image can cause unexpected aliasing effects! (found value 0.2603057026863098 at index [356, 179, 0, 0])\n",
      "\n",
      "0%....10....20....30....40....50....60....70....80....90....100%\n",
      "2022-06-08 13:45:01\tWARN\ttask_tclean::SIImageStore::restore (file src/code/synthesis/ImagerObjects/SIImageStore.cc, line 2247)\tRestoring with an empty model image. Only residuals will be processed to form the output restored image.\n"
     ]
    },
    {
     "name": "stdout",
     "output_type": "stream",
     "text": [
      "17.226338689026196\n"
     ]
    },
    {
     "name": "stderr",
     "output_type": "stream",
     "text": [
      " 50%|█████     | 1/2 [02:21<02:21, 141.54s/it]"
     ]
    },
    {
     "name": "stdout",
     "output_type": "stream",
     "text": [
      "0.1\n"
     ]
    },
    {
     "data": {
      "image/png": "[encoded data removed]",
      "text/plain": [
       "<Figure size 1152x576 with 3 Axes>"
      ]
     },
     "metadata": {
      "needs_background": "light"
     },
     "output_type": "display_data"
    },
    {
     "name": "stderr",
     "output_type": "stream",
     "text": [
      "....10....20....30....40....50....60....70....80....90....100%\n",
      "\n",
      "0%....10....20....30....40....50....60....70....80....90....100%\n",
      "2022-06-08 13:47:02\tWARN\ttclean::::casa\tWarning! Non-zero values at the edge of the .pb image can cause unexpected aliasing effects! (found value 0.2603057026863098 at index [356, 179, 0, 0])\n",
      "\n",
      "0%....10....20....30....40....50....60....70....80....90....100%\n",
      "2022-06-08 13:47:25\tWARN\ttask_tclean::SIImageStore::restore (file src/code/synthesis/ImagerObjects/SIImageStore.cc, line 2247)\tRestoring with an empty model image. Only residuals will be processed to form the output restored image.\n"
     ]
    },
    {
     "name": "stdout",
     "output_type": "stream",
     "text": [
      "17.226338844237798\n"
     ]
    },
    {
     "name": "stderr",
     "output_type": "stream",
     "text": [
      "100%|██████████| 2/2 [04:45<00:00, 142.71s/it]\n"
     ]
    }
   ],
   "source": [
    "line_amp = 1.0\n",
    "i = 0\n",
    "snrs = []\n",
    "for amp in tqdm(amps[-2:]):\n",
    "    print(amp)\n",
    "    box = generate_gaussian(amp, line_amp, data_dir, i)\n",
    "    filename = os.path.join(data_dir, \"gauss_cube_\" + str(i) + \".fits\")\n",
    "    project = \"sim\"\n",
    "    snr = simulator_tclean(output_dir, filename, project, amp, line_amp, box)\n",
    "    print(snr)\n",
    "    os.system('rm -r {}'.format(project))"
   ]
  },
  {
   "cell_type": "code",
   "execution_count": null,
   "metadata": {},
   "outputs": [],
   "source": []
  }
 ],
 "metadata": {
  "interpreter": {
   "hash": "5a48f18a991e951c93f94ab544850d2a5db17d7c95c7b236653ddbb1b65d462e"
  },
  "kernelspec": {
   "display_name": "Python 3.8.13 ('casa6.5')",
   "language": "python",
   "name": "python3"
  },
  "language_info": {
   "codemirror_mode": {
    "name": "ipython",
    "version": 3
   },
   "file_extension": ".py",
   "mimetype": "text/x-python",
   "name": "python",
   "nbconvert_exporter": "python",
   "pygments_lexer": "ipython3",
   "version": "3.8.13"
  },
  "orig_nbformat": 4
 },
 "nbformat": 4,
 "nbformat_minor": 2
}
